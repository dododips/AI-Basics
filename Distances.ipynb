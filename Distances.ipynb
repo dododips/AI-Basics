{
 "cells": [
  {
   "cell_type": "code",
   "execution_count": 1,
   "metadata": {},
   "outputs": [],
   "source": [
    "from scipy.spatial import distance"
   ]
  },
  {
   "cell_type": "code",
   "execution_count": 2,
   "metadata": {},
   "outputs": [],
   "source": [
    "p1 = (6,5,1.6,4,5,1)\n",
    "p2 = (8,2,5,2,4,3)"
   ]
  },
  {
   "cell_type": "code",
   "execution_count": 3,
   "metadata": {},
   "outputs": [
    {
     "data": {
      "text/plain": [
       "((6, 5, 1.6, 4, 5, 1), (8, 2, 5, 2, 4, 3))"
      ]
     },
     "execution_count": 3,
     "metadata": {},
     "output_type": "execute_result"
    }
   ],
   "source": [
    "p1,p2"
   ]
  },
  {
   "cell_type": "markdown",
   "metadata": {},
   "source": [
    "# Euclidean"
   ]
  },
  {
   "cell_type": "code",
   "execution_count": 4,
   "metadata": {},
   "outputs": [
    {
     "name": "stdout",
     "output_type": "stream",
     "text": [
      "Euclidean distance between points p1 and p2 is: 5.793099343184095\n"
     ]
    }
   ],
   "source": [
    "euclidean_dist = distance.euclidean(p1,p2)\n",
    "print('Euclidean distance between points p1 and p2 is:', euclidean_dist)"
   ]
  },
  {
   "cell_type": "markdown",
   "metadata": {},
   "source": [
    "# Manhattan"
   ]
  },
  {
   "cell_type": "code",
   "execution_count": 5,
   "metadata": {},
   "outputs": [
    {
     "name": "stdout",
     "output_type": "stream",
     "text": [
      "Manhattan distance between points p1 and p2 is: 13.4\n"
     ]
    }
   ],
   "source": [
    "manhattan_dist = distance.cityblock(p1, p2)\n",
    "print('Manhattan distance between points p1 and p2 is:', manhattan_dist)"
   ]
  },
  {
   "cell_type": "markdown",
   "metadata": {},
   "source": [
    "# Minkowski"
   ]
  },
  {
   "cell_type": "code",
   "execution_count": 6,
   "metadata": {},
   "outputs": [
    {
     "name": "stdout",
     "output_type": "stream",
     "text": [
      "Minkowski distance between points p1 and p2 is: 5.793099343184095\n"
     ]
    }
   ],
   "source": [
    "#Order of the normal=2 i.e. Euclidean\n",
    "minkowski_dist = distance.minkowski(p1, p2, p=2)\n",
    "print('Minkowski distance between points p1 and p2 is:', minkowski_dist)"
   ]
  },
  {
   "cell_type": "code",
   "execution_count": 7,
   "metadata": {},
   "outputs": [
    {
     "name": "stdout",
     "output_type": "stream",
     "text": [
      "Minkowski distance between points p1 and p2 is: 13.4\n"
     ]
    }
   ],
   "source": [
    "#Order of the normal=1 i.e. Manhattan\n",
    "minkowski_dist = distance.minkowski(p1, p2, p=1)\n",
    "print('Minkowski distance between points p1 and p2 is:', minkowski_dist)"
   ]
  },
  {
   "cell_type": "markdown",
   "metadata": {},
   "source": [
    "# Hamming"
   ]
  },
  {
   "cell_type": "code",
   "execution_count": 8,
   "metadata": {},
   "outputs": [],
   "source": [
    "s1='Euclidean'\n",
    "s2='Manhattan'"
   ]
  },
  {
   "cell_type": "code",
   "execution_count": 9,
   "metadata": {},
   "outputs": [
    {
     "name": "stdout",
     "output_type": "stream",
     "text": [
      "Hamming Distance between Euclidean and Manhattan is:  7.0\n"
     ]
    }
   ],
   "source": [
    "hamming_distance = distance.hamming(list(s1), list(s2))*len(s1)\n",
    "print('Hamming Distance between', s1, 'and', s2, 'is: ', hamming_distance)"
   ]
  },
  {
   "cell_type": "code",
   "execution_count": 10,
   "metadata": {},
   "outputs": [],
   "source": [
    "s3='Potato'\n",
    "s4='Tomato'"
   ]
  },
  {
   "cell_type": "code",
   "execution_count": 12,
   "metadata": {},
   "outputs": [
    {
     "name": "stdout",
     "output_type": "stream",
     "text": [
      "Hamming Distance between Potato and Tomato is:  2.0\n"
     ]
    }
   ],
   "source": [
    "hamming_dist = distance.hamming(list(s3), list(s4))*len(s3)\n",
    "print('Hamming Distance between', s3, 'and', s4, 'is: ', hamming_dist)"
   ]
  },
  {
   "cell_type": "code",
   "execution_count": null,
   "metadata": {},
   "outputs": [],
   "source": []
  }
 ],
 "metadata": {
  "kernelspec": {
   "display_name": "Python 3",
   "language": "python",
   "name": "python3"
  },
  "language_info": {
   "codemirror_mode": {
    "name": "ipython",
    "version": 3
   },
   "file_extension": ".py",
   "mimetype": "text/x-python",
   "name": "python",
   "nbconvert_exporter": "python",
   "pygments_lexer": "ipython3",
   "version": "3.7.4"
  }
 },
 "nbformat": 4,
 "nbformat_minor": 2
}
